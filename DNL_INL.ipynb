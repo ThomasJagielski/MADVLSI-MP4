{
 "cells": [
  {
   "cell_type": "code",
   "execution_count": 1,
   "id": "powered-mistake",
   "metadata": {},
   "outputs": [],
   "source": [
    "import pandas as pd\n",
    "import numpy as np\n",
    "import matplotlib.pyplot as plt"
   ]
  },
  {
   "cell_type": "code",
   "execution_count": 2,
   "id": "changed-kingdom",
   "metadata": {},
   "outputs": [],
   "source": [
    "list_df = []\n",
    "for i in range(10):\n",
    "    df_tmp = pd.read_csv(\"schematic/data/ladder3_l3w3-\"+str(i+1)+\".txt\", delimiter=\"\\s+\")\n",
    "    df_tmp[\"bit\"] = df_tmp.index\n",
    "    df_tmp[\"v(b0)\"] = (df_tmp[\"v(b0)\"] > 1e-3).astype(float)\n",
    "    df_tmp[\"v(b1)\"] = (df_tmp[\"v(b1)\"] > 1e-3).astype(float)\n",
    "    df_tmp[\"v(b2)\"] = (df_tmp[\"v(b2)\"] > 1e-3).astype(float)\n",
    "    df_tmp[\"src\"] = np.ones(len(df_tmp.iloc[:, [1]]))\n",
    "    df_tmp[\"lsb\"] = df_tmp[\"i(Vbias)\"]/8\n",
    "# my_df = pd.read_csv(\"sample_data/mcdactut1.txt\", delimiter=\"\\s+\")\n",
    "    df_tmp[\"dnl\"] = np.array([df_tmp.lsb.iloc[0]]+list(df_tmp[\"i(viout)\"].iloc[1:].values - df_tmp[\"i(viout)\"].iloc[0:-1].values))-df_tmp[\"lsb\"]\n",
    "    df_tmp[\"inl\"] = df_tmp[\"dnl\"].cumsum()\n",
    "    list_df.append(df_tmp)"
   ]
  },
  {
   "cell_type": "code",
   "execution_count": 5,
   "id": "crude-indian",
   "metadata": {},
   "outputs": [
    {
     "data": {
      "text/html": [
       "<div>\n",
       "<style scoped>\n",
       "    .dataframe tbody tr th:only-of-type {\n",
       "        vertical-align: middle;\n",
       "    }\n",
       "\n",
       "    .dataframe tbody tr th {\n",
       "        vertical-align: top;\n",
       "    }\n",
       "\n",
       "    .dataframe thead th {\n",
       "        text-align: right;\n",
       "    }\n",
       "</style>\n",
       "<table border=\"1\" class=\"dataframe\">\n",
       "  <thead>\n",
       "    <tr style=\"text-align: right;\">\n",
       "      <th></th>\n",
       "      <th>b0</th>\n",
       "      <th>v(b0)</th>\n",
       "      <th>v(b1)</th>\n",
       "      <th>v(b2)</th>\n",
       "      <th>i(Vbias)</th>\n",
       "      <th>i(viout)</th>\n",
       "      <th>v(vbout)</th>\n",
       "      <th>bit</th>\n",
       "      <th>src</th>\n",
       "      <th>lsb</th>\n",
       "      <th>dnl</th>\n",
       "      <th>inl</th>\n",
       "    </tr>\n",
       "  </thead>\n",
       "  <tbody>\n",
       "    <tr>\n",
       "      <th>0</th>\n",
       "      <td>3.251139e-09</td>\n",
       "      <td>0.0</td>\n",
       "      <td>0.0</td>\n",
       "      <td>0.0</td>\n",
       "      <td>8.038737e-07</td>\n",
       "      <td>8.669954e-12</td>\n",
       "      <td>0.125532</td>\n",
       "      <td>0</td>\n",
       "      <td>1.0</td>\n",
       "      <td>1.004842e-07</td>\n",
       "      <td>0.000000e+00</td>\n",
       "      <td>0.000000e+00</td>\n",
       "    </tr>\n",
       "    <tr>\n",
       "      <th>1</th>\n",
       "      <td>6.178217e-01</td>\n",
       "      <td>1.0</td>\n",
       "      <td>0.0</td>\n",
       "      <td>0.0</td>\n",
       "      <td>8.038744e-07</td>\n",
       "      <td>1.428710e-07</td>\n",
       "      <td>0.502094</td>\n",
       "      <td>1</td>\n",
       "      <td>1.0</td>\n",
       "      <td>1.004843e-07</td>\n",
       "      <td>4.237804e-08</td>\n",
       "      <td>4.237804e-08</td>\n",
       "    </tr>\n",
       "    <tr>\n",
       "      <th>2</th>\n",
       "      <td>3.251139e-09</td>\n",
       "      <td>0.0</td>\n",
       "      <td>1.0</td>\n",
       "      <td>0.0</td>\n",
       "      <td>8.038744e-07</td>\n",
       "      <td>2.797794e-07</td>\n",
       "      <td>0.531424</td>\n",
       "      <td>2</td>\n",
       "      <td>1.0</td>\n",
       "      <td>1.004843e-07</td>\n",
       "      <td>3.642405e-08</td>\n",
       "      <td>7.880209e-08</td>\n",
       "    </tr>\n",
       "    <tr>\n",
       "      <th>3</th>\n",
       "      <td>6.178218e-01</td>\n",
       "      <td>1.0</td>\n",
       "      <td>1.0</td>\n",
       "      <td>0.0</td>\n",
       "      <td>8.038752e-07</td>\n",
       "      <td>4.074495e-07</td>\n",
       "      <td>0.548318</td>\n",
       "      <td>3</td>\n",
       "      <td>1.0</td>\n",
       "      <td>1.004844e-07</td>\n",
       "      <td>2.718571e-08</td>\n",
       "      <td>1.059878e-07</td>\n",
       "    </tr>\n",
       "    <tr>\n",
       "      <th>4</th>\n",
       "      <td>3.251139e-09</td>\n",
       "      <td>0.0</td>\n",
       "      <td>0.0</td>\n",
       "      <td>1.0</td>\n",
       "      <td>8.038744e-07</td>\n",
       "      <td>4.972820e-07</td>\n",
       "      <td>0.557470</td>\n",
       "      <td>4</td>\n",
       "      <td>1.0</td>\n",
       "      <td>1.004843e-07</td>\n",
       "      <td>-1.065173e-08</td>\n",
       "      <td>9.533607e-08</td>\n",
       "    </tr>\n",
       "  </tbody>\n",
       "</table>\n",
       "</div>"
      ],
      "text/plain": [
       "             b0  v(b0)  v(b1)  v(b2)      i(Vbias)      i(viout)  v(vbout)  \\\n",
       "0  3.251139e-09    0.0    0.0    0.0  8.038737e-07  8.669954e-12  0.125532   \n",
       "1  6.178217e-01    1.0    0.0    0.0  8.038744e-07  1.428710e-07  0.502094   \n",
       "2  3.251139e-09    0.0    1.0    0.0  8.038744e-07  2.797794e-07  0.531424   \n",
       "3  6.178218e-01    1.0    1.0    0.0  8.038752e-07  4.074495e-07  0.548318   \n",
       "4  3.251139e-09    0.0    0.0    1.0  8.038744e-07  4.972820e-07  0.557470   \n",
       "\n",
       "   bit  src           lsb           dnl           inl  \n",
       "0    0  1.0  1.004842e-07  0.000000e+00  0.000000e+00  \n",
       "1    1  1.0  1.004843e-07  4.237804e-08  4.237804e-08  \n",
       "2    2  1.0  1.004843e-07  3.642405e-08  7.880209e-08  \n",
       "3    3  1.0  1.004844e-07  2.718571e-08  1.059878e-07  \n",
       "4    4  1.0  1.004843e-07 -1.065173e-08  9.533607e-08  "
      ]
     },
     "execution_count": 5,
     "metadata": {},
     "output_type": "execute_result"
    }
   ],
   "source": [
    "my_df = pd.concat(list_df).reset_index(drop=True)\n",
    "\n",
    "my_df.head()"
   ]
  },
  {
   "cell_type": "code",
   "execution_count": 6,
   "id": "charitable-parker",
   "metadata": {},
   "outputs": [
    {
     "data": {
      "text/plain": [
       "9.15224125e-08"
      ]
     },
     "execution_count": 6,
     "metadata": {},
     "output_type": "execute_result"
    }
   ],
   "source": [
    "7.321793e-07/8"
   ]
  },
  {
   "cell_type": "code",
   "execution_count": 10,
   "id": "urban-market",
   "metadata": {},
   "outputs": [
    {
     "data": {
      "text/plain": [
       "Text(0, 0.5, 'DNL (LSB^{-1})')"
      ]
     },
     "execution_count": 10,
     "metadata": {},
     "output_type": "execute_result"
    },
    {
     "data": {
      "image/png": "[encoded data removed]",
      "text/plain": [
       "<Figure size 432x288 with 1 Axes>"
      ]
     },
     "metadata": {
      "needs_background": "light"
     },
     "output_type": "display_data"
    }
   ],
   "source": [
    "fig, ax = plt.subplots()\n",
    "ax.plot(my_df.bit, my_df.dnl/my_df.lsb, \"bo\", alpha=0.5)\n",
    "# ax.\n",
    "# ax.plot(my_df[\"i(Vbias)\"]/8)\n",
    "ax.set_title(\"Differential Non-linearity\")\n",
    "ax.set_xlabel(\"Digital Input\")\n",
    "ax.set_ylabel(\"DNL (LSB^{-1})\")"
   ]
  },
  {
   "cell_type": "code",
   "execution_count": 9,
   "id": "chronic-grounds",
   "metadata": {},
   "outputs": [
    {
     "data": {
      "text/plain": [
       "Text(0, 0.5, 'INL ($LSB$)')"
      ]
     },
     "execution_count": 9,
     "metadata": {},
     "output_type": "execute_result"
    },
    {
     "data": {
      "image/png": "[encoded data removed]",
      "text/plain": [
       "<Figure size 432x288 with 1 Axes>"
      ]
     },
     "metadata": {
      "needs_background": "light"
     },
     "output_type": "display_data"
    }
   ],
   "source": [
    "fig, ax = plt.subplots()\n",
    "ax.plot(my_df.bit, my_df.inl/my_df.lsb, \"bo\", alpha=0.5)\n",
    "ax.set_title(\"Integral Non-linearity\")\n",
    "ax.set_xlabel(\"Digital Input\")\n",
    "ax.set_ylabel(\"INL ($LSB$)\")"
   ]
  },
  {
   "cell_type": "code",
   "execution_count": null,
   "id": "cooked-nicaragua",
   "metadata": {},
   "outputs": [],
   "source": []
  }
 ],
 "metadata": {
  "kernelspec": {
   "display_name": "Python 3",
   "language": "python",
   "name": "python3"
  },
  "language_info": {
   "codemirror_mode": {
    "name": "ipython",
    "version": 3
   },
   "file_extension": ".py",
   "mimetype": "text/x-python",
   "name": "python",
   "nbconvert_exporter": "python",
   "pygments_lexer": "ipython3",
   "version": "3.8.6"
  }
 },
 "nbformat": 4,
 "nbformat_minor": 5
}
