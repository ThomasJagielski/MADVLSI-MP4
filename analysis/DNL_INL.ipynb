{
 "cells": [
  {
   "cell_type": "code",
   "execution_count": 1,
   "id": "powered-mistake",
   "metadata": {},
   "outputs": [],
   "source": [
    "import pandas as pd\n",
    "import numpy as np\n",
    "import matplotlib.pyplot as plt"
   ]
  },
  {
   "cell_type": "code",
   "execution_count": 21,
   "id": "changed-kingdom",
   "metadata": {},
   "outputs": [],
   "source": [
    "list_df = []\n",
    "for i in range(10):\n",
    "    df_tmp = pd.read_csv(\"schematic/data/ladder3_VgtVbonmcwilson-\"+str(i+1)+\".txt\", delimiter=\"\\s+\")\n",
    "    df_tmp[\"bit\"] = df_tmp.index\n",
    "    df_tmp[\"v(b0)\"] = (df_tmp[\"v(b0)\"] > 1e-3).astype(float)\n",
    "    df_tmp[\"v(b1)\"] = (df_tmp[\"v(b1)\"] > 1e-3).astype(float)\n",
    "    df_tmp[\"v(b2)\"] = (df_tmp[\"v(b2)\"] > 1e-3).astype(float)\n",
    "    df_tmp[\"src\"] = np.ones(len(df_tmp.iloc[:, [1]]))*i\n",
    "    df_tmp[\"lsb\"] = df_tmp[\"i(vbias)\"]/12\n",
    "# my_df = pd.read_csv(\"sample_data/mcdactut1.txt\", delimiter=\"\\s+\")\n",
    "    df_tmp[\"dnl\"] = np.array([df_tmp.lsb.iloc[0]]+list(df_tmp[\"i(viout)\"].iloc[1:].values - df_tmp[\"i(viout)\"].iloc[0:-1].values))-df_tmp[\"lsb\"]\n",
    "    df_tmp[\"inl\"] = df_tmp[\"dnl\"].cumsum()\n",
    "    list_df.append(df_tmp)"
   ]
  },
  {
   "cell_type": "code",
   "execution_count": 22,
   "id": "crude-indian",
   "metadata": {},
   "outputs": [
    {
     "data": {
      "text/html": [
       "<div>\n",
       "<style scoped>\n",
       "    .dataframe tbody tr th:only-of-type {\n",
       "        vertical-align: middle;\n",
       "    }\n",
       "\n",
       "    .dataframe tbody tr th {\n",
       "        vertical-align: top;\n",
       "    }\n",
       "\n",
       "    .dataframe thead th {\n",
       "        text-align: right;\n",
       "    }\n",
       "</style>\n",
       "<table border=\"1\" class=\"dataframe\">\n",
       "  <thead>\n",
       "    <tr style=\"text-align: right;\">\n",
       "      <th></th>\n",
       "      <th>b0</th>\n",
       "      <th>v(b0)</th>\n",
       "      <th>v(b1)</th>\n",
       "      <th>v(b2)</th>\n",
       "      <th>i(vbias)</th>\n",
       "      <th>i(viout)</th>\n",
       "      <th>v(vbout)</th>\n",
       "      <th>bit</th>\n",
       "      <th>src</th>\n",
       "      <th>lsb</th>\n",
       "      <th>dnl</th>\n",
       "      <th>inl</th>\n",
       "    </tr>\n",
       "  </thead>\n",
       "  <tbody>\n",
       "    <tr>\n",
       "      <th>0</th>\n",
       "      <td>3.349635e-09</td>\n",
       "      <td>0.0</td>\n",
       "      <td>0.0</td>\n",
       "      <td>0.0</td>\n",
       "      <td>7.235897e-07</td>\n",
       "      <td>2.159428e-11</td>\n",
       "      <td>0.163487</td>\n",
       "      <td>0</td>\n",
       "      <td>0.0</td>\n",
       "      <td>6.029914e-08</td>\n",
       "      <td>0.000000e+00</td>\n",
       "      <td>0.000000e+00</td>\n",
       "    </tr>\n",
       "    <tr>\n",
       "      <th>1</th>\n",
       "      <td>5.847921e-01</td>\n",
       "      <td>1.0</td>\n",
       "      <td>0.0</td>\n",
       "      <td>0.0</td>\n",
       "      <td>7.235905e-07</td>\n",
       "      <td>1.843722e-07</td>\n",
       "      <td>0.495587</td>\n",
       "      <td>1</td>\n",
       "      <td>0.0</td>\n",
       "      <td>6.029920e-08</td>\n",
       "      <td>1.240514e-07</td>\n",
       "      <td>1.240514e-07</td>\n",
       "    </tr>\n",
       "    <tr>\n",
       "      <th>2</th>\n",
       "      <td>3.349635e-09</td>\n",
       "      <td>0.0</td>\n",
       "      <td>1.0</td>\n",
       "      <td>0.0</td>\n",
       "      <td>7.235904e-07</td>\n",
       "      <td>3.494562e-07</td>\n",
       "      <td>0.522212</td>\n",
       "      <td>2</td>\n",
       "      <td>0.0</td>\n",
       "      <td>6.029920e-08</td>\n",
       "      <td>1.047848e-07</td>\n",
       "      <td>2.288362e-07</td>\n",
       "    </tr>\n",
       "    <tr>\n",
       "      <th>3</th>\n",
       "      <td>5.847922e-01</td>\n",
       "      <td>1.0</td>\n",
       "      <td>1.0</td>\n",
       "      <td>0.0</td>\n",
       "      <td>7.235911e-07</td>\n",
       "      <td>5.157726e-07</td>\n",
       "      <td>0.538866</td>\n",
       "      <td>3</td>\n",
       "      <td>0.0</td>\n",
       "      <td>6.029926e-08</td>\n",
       "      <td>1.060172e-07</td>\n",
       "      <td>3.348534e-07</td>\n",
       "    </tr>\n",
       "    <tr>\n",
       "      <th>4</th>\n",
       "      <td>3.349635e-09</td>\n",
       "      <td>0.0</td>\n",
       "      <td>0.0</td>\n",
       "      <td>1.0</td>\n",
       "      <td>7.235904e-07</td>\n",
       "      <td>6.597060e-07</td>\n",
       "      <td>0.549594</td>\n",
       "      <td>4</td>\n",
       "      <td>0.0</td>\n",
       "      <td>6.029920e-08</td>\n",
       "      <td>8.363419e-08</td>\n",
       "      <td>4.184876e-07</td>\n",
       "    </tr>\n",
       "  </tbody>\n",
       "</table>\n",
       "</div>"
      ],
      "text/plain": [
       "             b0  v(b0)  v(b1)  v(b2)      i(vbias)      i(viout)  v(vbout)  \\\n",
       "0  3.349635e-09    0.0    0.0    0.0  7.235897e-07  2.159428e-11  0.163487   \n",
       "1  5.847921e-01    1.0    0.0    0.0  7.235905e-07  1.843722e-07  0.495587   \n",
       "2  3.349635e-09    0.0    1.0    0.0  7.235904e-07  3.494562e-07  0.522212   \n",
       "3  5.847922e-01    1.0    1.0    0.0  7.235911e-07  5.157726e-07  0.538866   \n",
       "4  3.349635e-09    0.0    0.0    1.0  7.235904e-07  6.597060e-07  0.549594   \n",
       "\n",
       "   bit  src           lsb           dnl           inl  \n",
       "0    0  0.0  6.029914e-08  0.000000e+00  0.000000e+00  \n",
       "1    1  0.0  6.029920e-08  1.240514e-07  1.240514e-07  \n",
       "2    2  0.0  6.029920e-08  1.047848e-07  2.288362e-07  \n",
       "3    3  0.0  6.029926e-08  1.060172e-07  3.348534e-07  \n",
       "4    4  0.0  6.029920e-08  8.363419e-08  4.184876e-07  "
      ]
     },
     "execution_count": 22,
     "metadata": {},
     "output_type": "execute_result"
    }
   ],
   "source": [
    "my_df = pd.concat(list_df).reset_index(drop=True)\n",
    "\n",
    "my_df.head()"
   ]
  },
  {
   "cell_type": "code",
   "execution_count": 23,
   "id": "urban-market",
   "metadata": {},
   "outputs": [
    {
     "data": {
      "text/plain": [
       "Text(0, 0.5, 'DNL (LSB)')"
      ]
     },
     "execution_count": 23,
     "metadata": {},
     "output_type": "execute_result"
    },
    {
     "data": {
      "image/png": "[encoded data removed]",
      "text/plain": [
       "<Figure size 432x288 with 1 Axes>"
      ]
     },
     "metadata": {
      "needs_background": "light"
     },
     "output_type": "display_data"
    }
   ],
   "source": [
    "fig, ax = plt.subplots()\n",
    "ax.plot(my_df.bit, my_df.dnl/my_df.lsb, \"bo\", alpha=0.5)\n",
    "# ax.\n",
    "# ax.plot(my_df[\"i(Vbias)\"]/8)\n",
    "ax.set_title(\"Differential Non-linearity\")\n",
    "ax.set_xlabel(\"Digital Input\")\n",
    "ax.set_ylabel(\"DNL (LSB)\")"
   ]
  },
  {
   "cell_type": "code",
   "execution_count": 24,
   "id": "chronic-grounds",
   "metadata": {},
   "outputs": [
    {
     "data": {
      "text/plain": [
       "Text(0, 0.5, 'INL ($LSB$)')"
      ]
     },
     "execution_count": 24,
     "metadata": {},
     "output_type": "execute_result"
    },
    {
     "data": {
      "image/png": "[encoded data removed]",
      "text/plain": [
       "<Figure size 432x288 with 1 Axes>"
      ]
     },
     "metadata": {
      "needs_background": "light"
     },
     "output_type": "display_data"
    }
   ],
   "source": [
    "fig, ax = plt.subplots()\n",
    "ax.plot(my_df.bit, my_df.inl/my_df.lsb, \"bo\", alpha=0.5)\n",
    "ax.set_title(\"Integral Non-linearity\")\n",
    "ax.set_xlabel(\"Digital Input\")\n",
    "ax.set_ylabel(\"INL ($LSB$)\")"
   ]
  },
  {
   "cell_type": "code",
   "execution_count": null,
   "id": "cooked-nicaragua",
   "metadata": {},
   "outputs": [],
   "source": []
  },
  {
   "cell_type": "code",
   "execution_count": null,
   "id": "furnished-genesis",
   "metadata": {},
   "outputs": [],
   "source": []
  }
 ],
 "metadata": {
  "kernelspec": {
   "display_name": "Python 3",
   "language": "python",
   "name": "python3"
  },
  "language_info": {
   "codemirror_mode": {
    "name": "ipython",
    "version": 3
   },
   "file_extension": ".py",
   "mimetype": "text/x-python",
   "name": "python",
   "nbconvert_exporter": "python",
   "pygments_lexer": "ipython3",
   "version": "3.8.6"
  }
 },
 "nbformat": 4,
 "nbformat_minor": 5
}
